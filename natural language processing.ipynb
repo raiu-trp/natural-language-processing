{
 "cells": [
  {
   "cell_type": "markdown",
   "id": "0eef91d9",
   "metadata": {},
   "source": [
    "# 自然言語処理とは\n",
    "私たちが普段使用している言語は**自然言語**と言い、**自然言語処理**はそれをコンピューターに理解させるための技術分野である。自然言語はコンピューターの理解できるプログラミング言語などと違い、柔軟に意味や形を変える。この差が自然言語処理の難しさを生む。"
   ]
  },
  {
   "cell_type": "markdown",
   "id": "78f30446",
   "metadata": {},
   "source": [
    "## 単語の意味\n",
    "文章を理解させるためにはまず単語の意味を理解させる必要がある。単語の意味を理解させる方法として、以下の3つの手法をここでは紹介する。\n",
    "\n",
    "1. シソーラスによる手法\n",
    "1. カウントベースの手法\n",
    "1. 推論ベースの手法(word2vec)"
   ]
  },
  {
   "cell_type": "markdown",
   "id": "ed76fd38",
   "metadata": {},
   "source": [
    "# シソーラス\n",
    "シソーラスは基本的には類語辞書であり、同義語や類義語が同じグループに分類されている。また、下図のように、単語同士の上位下位の関連性も定義されていることがある。\n",
    "<img src='https://assets.st-note.com/production/uploads/images/66671667/picture_pc_77da28808628a98829596b0cc92c44c6.png'>"
   ]
  },
  {
   "cell_type": "markdown",
   "id": "453e24b0",
   "metadata": {},
   "source": [
    "## WordNet\n",
    "WordNetは自然言語処理の分野において最も有名なシソーラスであり、様々な自然言語処理アプリケーションで活躍している。"
   ]
  },
  {
   "cell_type": "markdown",
   "id": "4c85628e",
   "metadata": {},
   "source": [
    "## シソーラスの問題点\n",
    "シソーラスには、大きく分けて3つの問題点がある。\n",
    "\n",
    "1. 時代の変化に対応することが困難\n",
    "    - 時代による単語の増加や意味の変化に対応するには更新し続けるしかない\n",
    "1. 人の作業コストが高い\n",
    "    - 人力で単語の関連付けを行う必要がある。\n",
    "1. 単語の細かいニュアンスを表現できない\n",
    "    - 似たような単語でも意味が違う単語をくみ取ることができない ex)ヴィンテージとレトロ"
   ]
  },
  {
   "cell_type": "markdown",
   "id": "eb872d96",
   "metadata": {},
   "source": [
    "# カウントベースの手法\n",
    "この手法では、研究のために収集された大量のテキストデータ（**コーパス**と呼ばれる）を使用する。"
   ]
  },
  {
   "cell_type": "markdown",
   "id": "fd914fb0",
   "metadata": {},
   "source": [
    "## Pythonによるコーパスの下準備\n",
    "コーパスを利用できる形に変換する実装が以下である。"
   ]
  },
  {
   "cell_type": "code",
   "execution_count": 6,
   "id": "ec9d90a5",
   "metadata": {},
   "outputs": [],
   "source": [
    "import numpy as np\n",
    "\n",
    "def preprocess(text):\n",
    "    text = text.lower()\n",
    "    text = text.replace('.', ' .')\n",
    "    words = text.split(' ')\n",
    "\n",
    "    word_to_id = {} #単語からIDへ変換\n",
    "    id_to_word = {} #IDから単語に変換\n",
    "    for word in words:\n",
    "        if word not in word_to_id:\n",
    "            new_id = len(word_to_id)\n",
    "            word_to_id[word] = new_id\n",
    "            id_to_word[new_id] = word\n",
    "\n",
    "    corpus = np.array([word_to_id[w] for w in words])\n",
    "\n",
    "    return corpus, word_to_id, id_to_word"
   ]
  },
  {
   "cell_type": "markdown",
   "id": "fb848eec",
   "metadata": {},
   "source": [
    "## 単語の分散表現\n",
    "コンピューターの世界では、色はRGBを数値化したベクトル表現で表される。単語でも同様にベクトル表現を行うことで定量化し、扱いを容易にすることができる。このような表現を、単語の**分散表現**という。"
   ]
  },
  {
   "cell_type": "markdown",
   "id": "abd9d8a1",
   "metadata": {},
   "source": [
    "## 分布仮説\n",
    "「単語の意味は、周囲の単語によって形成される」という仮説を**分布仮説**といい、現代の分散表現の研究はこの仮説に基づいて行われている。これは、コンテキストによって意味が形成されるということである。周囲の単語をどれだけコンテキストの範囲に含めるかを、ウィンドウサイズという言葉で表す。"
   ]
  },
  {
   "cell_type": "markdown",
   "id": "84f02702",
   "metadata": {},
   "source": [
    "## 共起行列\n",
    "分布仮説に基づいて分散表現を行うとき、単純な方法として、その分散表現の対象となる単語の周囲にどのような単語がどれだけ存在するかをカウントし集計する手法がある。これを「カウントベースの手法」または「統計的手法」という。また、各単語についてそのコンテキストに含まれる単語の頻度をカウントし、テーブルにまとめたものを**共起行列**という。コーパスから共起行列を生成する実装は以下。"
   ]
  },
  {
   "cell_type": "code",
   "execution_count": 7,
   "id": "9672bdca",
   "metadata": {},
   "outputs": [],
   "source": [
    "def create_co_matrix(corpus, vocab_size, window_size=1):\n",
    "    '''共起行列の作成\n",
    "\n",
    "    :param corpus: コーパス（単語IDのリスト）\n",
    "    :param vocab_size:語彙数\n",
    "    :param window_size:ウィンドウサイズ（ウィンドウサイズが1のときは、単語の左右1単語がコンテキスト）\n",
    "    :return: 共起行列\n",
    "    '''\n",
    "    corpus_size = len(corpus)\n",
    "    co_matrix = np.zeros((vocab_size, vocab_size), dtype=np.int32)\n",
    "\n",
    "    for idx, word_id in enumerate(corpus):\n",
    "        for i in range(1, window_size + 1):\n",
    "            left_idx = idx - i\n",
    "            right_idx = idx + i\n",
    "\n",
    "            if left_idx >= 0:\n",
    "                left_word_id = corpus[left_idx]\n",
    "                co_matrix[word_id, left_word_id] += 1\n",
    "\n",
    "            if right_idx < corpus_size:\n",
    "                right_word_id = corpus[right_idx]\n",
    "                co_matrix[word_id, right_word_id] += 1\n",
    "\n",
    "    return co_matrix"
   ]
  },
  {
   "cell_type": "markdown",
   "id": "b605bf5f",
   "metadata": {},
   "source": [
    "## ベクトル間の類似度\n",
    "単語のベクトル表現の類似度の計測には、**コサイン類似度**がよく用いられる。コサイン類似度は、$x$と$y$の2つのベクトルがあるとき、次の式で定義される。\n",
    "<br>\n",
    "$$\\displaystyle\n",
    "\\text{similarity}(x,y) = \\frac{x \\cdot y}{\\|x\\| \\|y\\|} = \\frac{x_1 y_1 + \\cdots + x_n y_n}{\\sqrt{x_1^2 + \\cdots + x_n^2} \\sqrt{y_1^2 + \\cdots + y_n^2}}\n",
    "$$\n",
    "<br>\n",
    "これは、ベクトルがどれほど同じ向きを向いているかを表す。この実装は下記。"
   ]
  },
  {
   "cell_type": "code",
   "execution_count": 8,
   "id": "9df47e3b",
   "metadata": {},
   "outputs": [],
   "source": [
    "def cos_similarity(x, y, eps=1e-8):\n",
    "    '''コサイン類似度の算出\n",
    "\n",
    "    :param x: ベクトル\n",
    "    :param y: ベクトル\n",
    "    :param eps: ”0除算”防止のための微小値\n",
    "    :return:\n",
    "    '''\n",
    "    nx = x / (np.sqrt(np.sum(x ** 2)) + eps)\n",
    "    ny = y / (np.sqrt(np.sum(y ** 2)) + eps)\n",
    "    return np.dot(nx, ny)"
   ]
  },
  {
   "cell_type": "markdown",
   "id": "4be1886a",
   "metadata": {},
   "source": [
    "今までに実装した関数を用いて、\"You say goodbye and I say hello.\"という文の中での\"you\"と\"I\"の類似度を求めてみる。"
   ]
  },
  {
   "cell_type": "code",
   "execution_count": 9,
   "id": "68e35598",
   "metadata": {},
   "outputs": [
    {
     "name": "stdout",
     "output_type": "stream",
     "text": [
      "0.7071067691154799\n"
     ]
    }
   ],
   "source": [
    "text = 'You say goodbye and I say hello.'\n",
    "corpus, word_to_id, id_to_word = preprocess(text)\n",
    "vocab_size = len(word_to_id)\n",
    "C = create_co_matrix(corpus, vocab_size)\n",
    "\n",
    "c0 = C[word_to_id['you']]  #「you」の単語ベクトル\n",
    "c1 = C[word_to_id['i']]  #「i」の単語ベクトル\n",
    "print(cos_similarity(c0, c1))"
   ]
  },
  {
   "cell_type": "markdown",
   "id": "43658678",
   "metadata": {},
   "source": [
    "コサイン類似度は1～-1の値をとるため、これは比較的高い数値といえる。"
   ]
  },
  {
   "cell_type": "markdown",
   "id": "05098862",
   "metadata": {},
   "source": [
    "## 類似単語のランキング表示\n",
    "使用しやすいように、ある単語（クエリ）が与えられたとき、その単語に類似した単語を上位から順に返す関数を実装する。"
   ]
  },
  {
   "cell_type": "code",
   "execution_count": 10,
   "id": "a7351f1a",
   "metadata": {},
   "outputs": [],
   "source": [
    "def most_similar(query, word_to_id, id_to_word, word_matrix, top=5):\n",
    "    '''類似単語の検索\n",
    "\n",
    "    :param query: クエリ（テキスト）\n",
    "    :param word_to_id: 単語から単語IDへのディクショナリ\n",
    "    :param id_to_word: 単語IDから単語へのディクショナリ\n",
    "    :param word_matrix: 単語ベクトルをまとめた行列。各行に対応する単語のベクトルが格納されていることを想定する\n",
    "    :param top: 上位何位まで表示するか\n",
    "    '''\n",
    "    if query not in word_to_id:\n",
    "        print('%s is not found' % query)\n",
    "        return\n",
    "\n",
    "    print('\\n[query] ' + query)\n",
    "    query_id = word_to_id[query]\n",
    "    query_vec = word_matrix[query_id]\n",
    "\n",
    "    vocab_size = len(id_to_word)\n",
    "\n",
    "    similarity = np.zeros(vocab_size)\n",
    "    for i in range(vocab_size):\n",
    "        similarity[i] = cos_similarity(word_matrix[i], query_vec)\n",
    "\n",
    "    count = 0\n",
    "    for i in (-1 * similarity).argsort():\n",
    "        if id_to_word[i] == query:\n",
    "            continue\n",
    "        print(' %s: %s' % (id_to_word[i], similarity[i]))\n",
    "\n",
    "        count += 1\n",
    "        if count >= top:\n",
    "            return"
   ]
  },
  {
   "cell_type": "markdown",
   "id": "75c7129a",
   "metadata": {},
   "source": [
    "この関数を先ほどのコーパスにおいてyouで適用すると以下のようになる。"
   ]
  },
  {
   "cell_type": "code",
   "execution_count": 11,
   "id": "8273e2fa",
   "metadata": {},
   "outputs": [
    {
     "name": "stdout",
     "output_type": "stream",
     "text": [
      "\n",
      "[query] you\n",
      " goodbye: 0.7071067691154799\n",
      " i: 0.7071067691154799\n",
      " hello: 0.7071067691154799\n",
      " say: 0.0\n",
      " and: 0.0\n"
     ]
    }
   ],
   "source": [
    "text = 'You say goodbye and I say hello.'\n",
    "corpus, word_to_id, id_to_word = preprocess(text)\n",
    "vocab_size = len(word_to_id)\n",
    "C = create_co_matrix(corpus, vocab_size)\n",
    "\n",
    "most_similar('you', word_to_id, id_to_word, C, top=5)"
   ]
  },
  {
   "cell_type": "markdown",
   "id": "f588a1ba",
   "metadata": {},
   "source": [
    "# カウントベースの手法の改善"
   ]
  },
  {
   "cell_type": "markdown",
   "id": "1039839c",
   "metadata": {},
   "source": [
    "## 相互情報量\n",
    "共起行列では2つの単語が共起した回数を要素として持ったが、単語によって登場頻度は異なるため、頻繁に登場する単語ほど実際には関連性がなくても強い関連を示してしまう。この問題を解決するために、**相互情報量**（PMI）と呼ばれる指標が用いられる。これは、確率変数$x,y$を用いて以下の式で定義される。\n",
    "$${\\displaystyle\n",
    "\\text{PMI}(x,y) = log_2 \\frac{P(x,y)}{P(x)P(y)}\n",
    "}$$\n",
    "<br>\n",
    "PMIは、値が高いほど$x$の発生と$y$の発生の関連性が高いことを示す。また、2つの単語が共起する回数が0回のとき、PMIは-∞をとってしまうため、実践上では**正の相互情報量**（PPMI）を使用する。\n",
    "$${\\displaystyle\n",
    "\\text{PPMI}(x,y) = \\text{max}(0,\\text{PMI}(x,y))\n",
    "}$$\n",
    "<br>\n",
    "共起行列をPPMI行列へ変換する実装は以下である。"
   ]
  },
  {
   "cell_type": "code",
   "execution_count": 12,
   "id": "fb096700",
   "metadata": {},
   "outputs": [],
   "source": [
    "def ppmi(C, verbose=False, eps = 1e-8):\n",
    "    '''PPMI（正の相互情報量）の作成\n",
    "\n",
    "    :param C: 共起行列\n",
    "    :param verbose: 進行状況を出力するかどうか\n",
    "    :return:\n",
    "    '''\n",
    "    M = np.zeros_like(C, dtype=np.float32)\n",
    "    N = np.sum(C)\n",
    "    S = np.sum(C, axis=0)\n",
    "    total = C.shape[0] * C.shape[1]\n",
    "    cnt = 0\n",
    "\n",
    "    for i in range(C.shape[0]):\n",
    "        for j in range(C.shape[1]):\n",
    "            pmi = np.log2(C[i, j] * N / (S[j]*S[i]) + eps)\n",
    "            M[i, j] = max(0, pmi)\n",
    "\n",
    "            if verbose:\n",
    "                cnt += 1\n",
    "                if cnt % (total//100 + 1) == 0:\n",
    "                    print('%.1f%% done' % (100*cnt/total))\n",
    "    return M"
   ]
  },
  {
   "cell_type": "markdown",
   "id": "424d83cc",
   "metadata": {},
   "source": [
    "これを実際に使用してみる。"
   ]
  },
  {
   "cell_type": "code",
   "execution_count": 13,
   "id": "a09513e4",
   "metadata": {},
   "outputs": [
    {
     "name": "stdout",
     "output_type": "stream",
     "text": [
      "covariance matrix\n",
      "[[0 1 0 0 0 0 0]\n",
      " [1 0 1 0 1 1 0]\n",
      " [0 1 0 1 0 0 0]\n",
      " [0 0 1 0 1 0 0]\n",
      " [0 1 0 1 0 0 0]\n",
      " [0 1 0 0 0 0 1]\n",
      " [0 0 0 0 0 1 0]]\n",
      "--------------------------------------------------\n",
      "PPMI\n",
      "[[0.    1.807 0.    0.    0.    0.    0.   ]\n",
      " [1.807 0.    0.807 0.    0.807 0.807 0.   ]\n",
      " [0.    0.807 0.    1.807 0.    0.    0.   ]\n",
      " [0.    0.    1.807 0.    1.807 0.    0.   ]\n",
      " [0.    0.807 0.    1.807 0.    0.    0.   ]\n",
      " [0.    0.807 0.    0.    0.    0.    2.807]\n",
      " [0.    0.    0.    0.    0.    2.807 0.   ]]\n"
     ]
    }
   ],
   "source": [
    "text = 'You say goodbye and I say hello.'\n",
    "corpus, word_to_id, id_to_word = preprocess(text)\n",
    "vocab_size = len(word_to_id)\n",
    "C = create_co_matrix(corpus, vocab_size)\n",
    "W = ppmi(C)\n",
    "\n",
    "np.set_printoptions(precision=3)  # 有効桁３桁で表示\n",
    "print('covariance matrix')\n",
    "print(C)\n",
    "print('-'*50)\n",
    "print('PPMI')\n",
    "print(W)"
   ]
  },
  {
   "cell_type": "markdown",
   "id": "8ce29a82",
   "metadata": {},
   "source": [
    "変換ができた。しかし、このPPMI行列は、語彙数が増えるにしたがって次元数も増えていく。数万レベルまで語彙数が増えると実用的ではなくなってくる。この問題を解決するために行われるのが次元削減だ。"
   ]
  },
  {
   "cell_type": "markdown",
   "id": "b5c61b08",
   "metadata": {},
   "source": [
    "## 次元削減\n",
    "次元削減は文字通りベクトルの次元を削減する手法である。次元削減にもいくつかの方法があるが、ここでは**特異値分解**（SVD）を用いる。SVDは、任意の行列を3つの行列の積へと分解する。数式では次のように表される。\n",
    "$$\n",
    "X = USV^\\top\n",
    "$$\n",
    "SVDは、任意の行列$X$を、3つの行列$U,S,V$の積に分解する。このとき、$U$と$V$は直交行列であり、$S$は対角行列である。先ほどのコーパスにおけるSVDによる次元削減をPythonで実装したのが下記である。"
   ]
  },
  {
   "cell_type": "code",
   "execution_count": 15,
   "id": "846fe129",
   "metadata": {
    "scrolled": true
   },
   "outputs": [
    {
     "name": "stdout",
     "output_type": "stream",
     "text": [
      "[0 1 0 0 0 0 0]\n",
      "[0.    1.807 0.    0.    0.    0.    0.   ]\n",
      "[ 3.409e-01 -1.110e-16 -4.441e-16 -1.205e-01  0.000e+00 -9.323e-01\n",
      " -1.086e-16]\n"
     ]
    },
    {
     "data": {
      "image/png": "[encoded data removed]",
      "text/plain": [
       "<Figure size 432x288 with 1 Axes>"
      ]
     },
     "metadata": {
      "needs_background": "light"
     },
     "output_type": "display_data"
    }
   ],
   "source": [
    "import matplotlib.pyplot as plt\n",
    "\n",
    "ext = 'You say goodbye and I say hello.'\n",
    "corpus, word_to_id, id_to_word = preprocess(text)\n",
    "vocab_size = len(id_to_word)\n",
    "C = create_co_matrix(corpus, vocab_size, window_size=1)\n",
    "W = ppmi(C)\n",
    "\n",
    "# SVD\n",
    "U, S, V = np.linalg.svd(W)\n",
    "\n",
    "np.set_printoptions(precision=3)  # 有効桁３桁で表示\n",
    "print(C[0])\n",
    "print(W[0])\n",
    "print(U[0])\n",
    "\n",
    "# plot\n",
    "for word, word_id in word_to_id.items():\n",
    "    plt.annotate(word, (U[word_id, 0], U[word_id, 1]))\n",
    "plt.scatter(U[:,0], U[:,1], alpha=0.5)\n",
    "plt.show()"
   ]
  },
  {
   "cell_type": "markdown",
   "id": "3754fbb5",
   "metadata": {},
   "source": [
    "ここでは小さなコーパスを用いているため結果がわかりにくい。そのため、より大きなコーパスであるPTBデータデットを用いてみる。ここではPTBコーパスの読み込みに、「ゼロから作るDeepLearning②」で提供されているスクリプトを使用する。"
   ]
  },
  {
   "cell_type": "code",
   "execution_count": 16,
   "id": "dded30d1",
   "metadata": {},
   "outputs": [
    {
     "name": "stdout",
     "output_type": "stream",
     "text": [
      "Downloading ptb.train.txt ... \n",
      "Done\n",
      "corpus size: 929589\n",
      "corpus[:30]: [ 0  1  2  3  4  5  6  7  8  9 10 11 12 13 14 15 16 17 18 19 20 21 22 23\n",
      " 24 25 26 27 28 29]\n",
      "\n",
      "id_to_word[0]: aer\n",
      "id_to_word[1]: banknote\n",
      "id_to_word[2]: berlitz\n",
      "\n",
      "word_to_id['car']: 3856\n",
      "word_to_id['happy']: 4428\n",
      "word_to_id['lexus']: 7426\n"
     ]
    }
   ],
   "source": [
    "import sys\n",
    "sys.path.append('..')\n",
    "from dataset import ptb\n",
    "\n",
    "\n",
    "corpus, word_to_id, id_to_word = ptb.load_data('train')\n",
    "\n",
    "print('corpus size:', len(corpus))\n",
    "print('corpus[:30]:', corpus[:30])\n",
    "print()\n",
    "print('id_to_word[0]:', id_to_word[0])\n",
    "print('id_to_word[1]:', id_to_word[1])\n",
    "print('id_to_word[2]:', id_to_word[2])\n",
    "print()\n",
    "print(\"word_to_id['car']:\", word_to_id['car'])\n",
    "print(\"word_to_id['happy']:\", word_to_id['happy'])\n",
    "print(\"word_to_id['lexus']:\", word_to_id['lexus'])"
   ]
  },
  {
   "cell_type": "markdown",
   "id": "fed169f5",
   "metadata": {},
   "source": [
    "扱うのがより大きな行列となるため、より高速なsklearnモジュールのSVDを利用する。"
   ]
  },
  {
   "cell_type": "code",
   "execution_count": 17,
   "id": "df8fa588",
   "metadata": {},
   "outputs": [
    {
     "name": "stdout",
     "output_type": "stream",
     "text": [
      "counting  co-occurrence ...\n",
      "calculating PPMI ...\n"
     ]
    },
    {
     "name": "stderr",
     "output_type": "stream",
     "text": [
      "C:\\Users\\Kaito\\AppData\\Local\\Temp\\ipykernel_19224\\3766924727.py:16: RuntimeWarning: overflow encountered in long_scalars\n",
      "  pmi = np.log2(C[i, j] * N / (S[j]*S[i]) + eps)\n",
      "C:\\Users\\Kaito\\AppData\\Local\\Temp\\ipykernel_19224\\3766924727.py:16: RuntimeWarning: invalid value encountered in log2\n",
      "  pmi = np.log2(C[i, j] * N / (S[j]*S[i]) + eps)\n"
     ]
    },
    {
     "name": "stdout",
     "output_type": "stream",
     "text": [
      "1.0% done\n",
      "2.0% done\n",
      "3.0% done\n",
      "4.0% done\n",
      "5.0% done\n",
      "6.0% done\n",
      "7.0% done\n",
      "8.0% done\n",
      "9.0% done\n",
      "10.0% done\n",
      "11.0% done\n",
      "12.0% done\n",
      "13.0% done\n",
      "14.0% done\n",
      "15.0% done\n",
      "16.0% done\n",
      "17.0% done\n",
      "18.0% done\n",
      "19.0% done\n",
      "20.0% done\n",
      "21.0% done\n",
      "22.0% done\n",
      "23.0% done\n",
      "24.0% done\n",
      "25.0% done\n",
      "26.0% done\n",
      "27.0% done\n",
      "28.0% done\n",
      "29.0% done\n",
      "30.0% done\n",
      "31.0% done\n",
      "32.0% done\n",
      "33.0% done\n",
      "34.0% done\n",
      "35.0% done\n",
      "36.0% done\n",
      "37.0% done\n",
      "38.0% done\n",
      "39.0% done\n",
      "40.0% done\n",
      "41.0% done\n",
      "42.0% done\n",
      "43.0% done\n",
      "44.0% done\n",
      "45.0% done\n",
      "46.0% done\n",
      "47.0% done\n",
      "48.0% done\n",
      "49.0% done\n",
      "50.0% done\n",
      "51.0% done\n",
      "52.0% done\n",
      "53.0% done\n",
      "54.0% done\n",
      "55.0% done\n",
      "56.0% done\n",
      "57.0% done\n",
      "58.0% done\n",
      "59.0% done\n",
      "60.0% done\n",
      "61.0% done\n",
      "62.0% done\n",
      "63.0% done\n",
      "64.0% done\n",
      "65.0% done\n",
      "66.0% done\n",
      "67.0% done\n",
      "68.0% done\n",
      "69.0% done\n",
      "70.0% done\n",
      "71.0% done\n",
      "72.0% done\n",
      "73.0% done\n",
      "74.0% done\n",
      "75.0% done\n",
      "76.0% done\n",
      "77.0% done\n",
      "78.0% done\n",
      "79.0% done\n",
      "80.0% done\n",
      "81.0% done\n",
      "82.0% done\n",
      "83.0% done\n",
      "84.0% done\n",
      "85.0% done\n",
      "86.0% done\n",
      "87.0% done\n",
      "88.0% done\n",
      "89.0% done\n",
      "90.0% done\n",
      "91.0% done\n",
      "92.0% done\n",
      "93.0% done\n",
      "94.0% done\n",
      "95.0% done\n",
      "96.0% done\n",
      "97.0% done\n",
      "98.0% done\n",
      "99.0% done\n",
      "calculating SVD ...\n",
      "\n",
      "[query] you\n",
      " i: 0.7016294002532959\n",
      " we: 0.6388039588928223\n",
      " anybody: 0.5868049263954163\n",
      " do: 0.5612815022468567\n",
      " 'll: 0.5126120448112488\n",
      "\n",
      "[query] year\n",
      " month: 0.6957005262374878\n",
      " quarter: 0.691483736038208\n",
      " earlier: 0.6661214232444763\n",
      " last: 0.6327787041664124\n",
      " third: 0.6230476498603821\n",
      "\n",
      "[query] car\n",
      " luxury: 0.6767407059669495\n",
      " auto: 0.6339930295944214\n",
      " vehicle: 0.597271203994751\n",
      " cars: 0.5888376235961914\n",
      " truck: 0.5693157911300659\n",
      "\n",
      "[query] toyota\n",
      " motor: 0.7481387257575989\n",
      " nissan: 0.7147319912910461\n",
      " motors: 0.6946367025375366\n",
      " lexus: 0.6553674936294556\n",
      " honda: 0.6343469023704529\n"
     ]
    }
   ],
   "source": [
    "window_size = 2\n",
    "wordvec_size = 100\n",
    "\n",
    "corpus, word_to_id, id_to_word = ptb.load_data('train')\n",
    "vocab_size = len(word_to_id)\n",
    "print('counting  co-occurrence ...')\n",
    "C = create_co_matrix(corpus, vocab_size, window_size)\n",
    "print('calculating PPMI ...')\n",
    "W = ppmi(C, verbose=True)\n",
    "\n",
    "print('calculating SVD ...')\n",
    "try:\n",
    "    # truncated SVD (fast!)\n",
    "    from sklearn.utils.extmath import randomized_svd\n",
    "    U, S, V = randomized_svd(W, n_components=wordvec_size, n_iter=5,\n",
    "                             random_state=None)\n",
    "except ImportError:\n",
    "    # SVD (slow)\n",
    "    U, S, V = np.linalg.svd(W)\n",
    "\n",
    "word_vecs = U[:, :wordvec_size]\n",
    "\n",
    "querys = ['you', 'year', 'car', 'toyota']\n",
    "for query in querys:\n",
    "    most_similar(query, word_to_id, id_to_word, word_vecs, top=5)"
   ]
  },
  {
   "cell_type": "markdown",
   "id": "80c5d83f",
   "metadata": {},
   "source": [
    "人間の目で見ても関連性の高いワードが検出されていることが分かる。"
   ]
  }
 ],
 "metadata": {
  "kernelspec": {
   "display_name": "Python 3 (ipykernel)",
   "language": "python",
   "name": "python3"
  },
  "language_info": {
   "codemirror_mode": {
    "name": "ipython",
    "version": 3
   },
   "file_extension": ".py",
   "mimetype": "text/x-python",
   "name": "python",
   "nbconvert_exporter": "python",
   "pygments_lexer": "ipython3",
   "version": "3.9.13"
  }
 },
 "nbformat": 4,
 "nbformat_minor": 5
}
